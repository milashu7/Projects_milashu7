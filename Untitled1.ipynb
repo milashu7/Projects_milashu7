{
  "nbformat": 4,
  "nbformat_minor": 0,
  "metadata": {
    "colab": {
      "name": "Untitled1.ipynb",
      "provenance": [],
      "authorship_tag": "ABX9TyN1pqYB9PhvLzruZ6DyeRKi",
      "include_colab_link": true
    },
    "kernelspec": {
      "name": "python3",
      "display_name": "Python 3"
    }
  },
  "cells": [
    {
      "cell_type": "markdown",
      "metadata": {
        "id": "view-in-github",
        "colab_type": "text"
      },
      "source": [
        "<a href=\"https://colab.research.google.com/github/milashu7/Projects_milashu7/blob/master/Untitled1.ipynb\" target=\"_parent\"><img src=\"https://colab.research.google.com/assets/colab-badge.svg\" alt=\"Open In Colab\"/></a>"
      ]
    },
    {
      "cell_type": "code",
      "metadata": {
        "id": "x_baG-NfYkjr",
        "colab_type": "code",
        "colab": {}
      },
      "source": [
        "from random import random\n",
        "import numpy as np\n",
        "\n",
        "def score_game(game_core):\n",
        "    '''Запускаем игру 1000 раз, чтобы узнать, как быстро игра угадывает число'''\n",
        "    count_ls = []\n",
        "    #np.random.seed(1)  # фиксируем RANDOM SEED, чтобы ваш эксперимент был воспроизводим!\n",
        "    random_array = np.random.randint(1,101, size=(1000))\n",
        "    for number in random_array:\n",
        "        count_ls.append(game_core_v3(number))\n",
        "    score = int(np.mean(count_ls))\n",
        "    print(f\"Ваш алгоритм угадывает число в среднем за {score} попыток\")\n",
        "    return(score)\n",
        "\n",
        "def game_core_v3(number):\n",
        "    # Сначала устанавливаем любое random число, а потом уменьшаем или увеличиваем его \n",
        "    # в зависимости от того, больше оно или меньше нужного. \n",
        "    # Функция принимает загаданное число и возвращает число попыток'''\n",
        "    \n",
        "     number = 50\n",
        "     predict = np.random.randint(1,101)\n",
        "     count = 1\n",
        "          \n",
        "     while number != predict:\n",
        "        if number > predict: \n",
        "            predict += int((number-predict)/2+1)\n",
        "            \n",
        "        else:\n",
        "            predict -= int((predict-number)/2+1)\n",
        "            #print('Счётчик  ', count,'   Число предсказанное ', predict,'   Загаданное  ', number) \n",
        "        \n",
        "        count+=1\n",
        "        print('Счётчик  ', count,'   Число предсказанное ', predict,'   Загаданное  ', number)  \n",
        "        \n",
        "     \n",
        "     print('Счётчик  ', count,'   Загаданное  ', number, '   Число предсказанное ', predict)  \n",
        "     return(count) # выход из цикла, если угадали\n",
        "\n",
        "# Проверяем\n",
        "score_game(game_core_v3)"
      ],
      "execution_count": null,
      "outputs": []
    }
  ]
}