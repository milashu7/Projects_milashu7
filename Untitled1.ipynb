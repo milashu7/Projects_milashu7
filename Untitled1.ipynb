{
  "nbformat": 4,
  "nbformat_minor": 0,
  "metadata": {
    "colab": {
      "name": "Untitled1.ipynb",
      "provenance": [],
      "authorship_tag": "ABX9TyOqmiccyt/kkjIXbvDJmPFX",
      "include_colab_link": true
    },
    "kernelspec": {
      "name": "python3",
      "display_name": "Python 3"
    }
  },
  "cells": [
    {
      "cell_type": "markdown",
      "metadata": {
        "id": "view-in-github",
        "colab_type": "text"
      },
      "source": [
        "<a href=\"https://colab.research.google.com/github/milashu7/Projects_milashu7/blob/master/Untitled1.ipynb\" target=\"_parent\"><img src=\"https://colab.research.google.com/assets/colab-badge.svg\" alt=\"Open In Colab\"/></a>"
      ]
    },
    {
      "cell_type": "code",
      "metadata": {
        "id": "x_baG-NfYkjr",
        "colab_type": "code",
        "colab": {
          "base_uri": "https://localhost:8080/",
          "height": 50
        },
        "outputId": "8a7f609c-f674-4be9-a55d-e3fa6cd93a91"
      },
      "source": [
        "from random import random\n",
        "import numpy as np\n",
        "\n",
        "def score_game(game_core):\n",
        "    # Count mean number of attempts\n",
        "    count_ls = []\n",
        "    np.random.seed(1)  # fix RANDOM SEED for result's reproducibility\n",
        "    random_array = np.random.randint(1,101, size=(1000))\n",
        "    for number in random_array:\n",
        "        count_ls.append(game_core_v3(number))\n",
        "    score = int(np.mean(count_ls))\n",
        "    print(f\"Ваш алгоритм угадывает число в среднем за {score} попыток\")\n",
        "    return(score)\n",
        "\n",
        "def game_core_v3(number):\n",
        "    # Use method of dichotomy for predict number \n",
        "    # Input predict's number use as random\n",
        "\n",
        "     predict = np.random.randint(1,101)\n",
        "     count = 1\n",
        "          \n",
        "     while number != predict:\n",
        "        if number > predict: \n",
        "            predict += int((number-predict)/2+1)\n",
        "            \n",
        "        else:\n",
        "            predict -= int((predict-number)/2+1)\n",
        "        \n",
        "        count+=1\n",
        "         \n",
        "     # print('Счётчик  ', count,'   Загаданное число ', number, '   Число предсказанное ', predict)  \n",
        "     return(count) \n",
        "           \n",
        "# Test algorithm (method of dichotomy)\n",
        "score_game(game_core_v3)"
      ],
      "execution_count": null,
      "outputs": [
        {
          "output_type": "stream",
          "text": [
            "Ваш алгоритм угадывает число в среднем за 5 попыток\n"
          ],
          "name": "stdout"
        },
        {
          "output_type": "execute_result",
          "data": {
            "text/plain": [
              "5"
            ]
          },
          "metadata": {
            "tags": []
          },
          "execution_count": 3
        }
      ]
    },
    {
      "cell_type": "code",
      "metadata": {
        "id": "-FealjTu14b_",
        "colab_type": "code",
        "colab": {}
      },
      "source": [
        ""
      ],
      "execution_count": null,
      "outputs": []
    }
  ]
}